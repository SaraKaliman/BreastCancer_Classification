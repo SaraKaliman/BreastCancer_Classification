{
 "cells": [
  {
   "cell_type": "markdown",
   "metadata": {},
   "source": [
    "<h2> Exploratory analysis of a good CNN arhitecture and choice of hyperparameters </h2>\n",
    "<p> This file is just an example of one exploratory analysis of a CNN arhitecture </p>"
   ]
  },
  {
   "cell_type": "code",
   "execution_count": null,
   "metadata": {},
   "outputs": [],
   "source": [
    "import numpy as np\n",
    "import h5py\n",
    "from tensorflow.keras.models import Model\n",
    "from tensorflow.keras.layers import Input, Flatten, Conv2D, BatchNormalization, Dense, Dropout, MaxPooling2D, Activation\n",
    "from tensorflow.keras.optimizers import Adam\n",
    "import numpy as np\n",
    "from sklearn.metrics import confusion_matrix"
   ]
  },
  {
   "cell_type": "code",
   "execution_count": null,
   "metadata": {},
   "outputs": [],
   "source": [
    "def load_dataset():\n",
    "\n",
    "    f = h5py.File('Test_Set.h5', 'r')\n",
    "    X_test = np.array(f['array'][:]) # your train set features\n",
    "    f.close()\n",
    "    \n",
    "    f = h5py.File('Test_Label.h5', 'r')\n",
    "    Y_test = np.array(f['array'][:]) # your train set features\n",
    "    f.close()\n",
    "    \n",
    "    f = h5py.File('Train_Set.h5', 'r')\n",
    "    X = np.array(f['array'][:]) # your train set features\n",
    "    f.close()\n",
    "    \n",
    "    f = h5py.File('Train_Label.h5', 'r')\n",
    "    Y = np.array(f['array'][:]) # your train set features\n",
    "    f.close()\n",
    "    \n",
    "    return X, Y, X_test, Y_test"
   ]
  },
  {
   "cell_type": "code",
   "execution_count": null,
   "metadata": {},
   "outputs": [],
   "source": [
    "# --------- Load the data ------------\n",
    "\n",
    "X, Y, X_test, Y_test = load_dataset()\n",
    "\n",
    "print('Total number of examples to train ', Y.shape[0])\n",
    "print('Number of negative examples', len(np.where (Y == 1)[0]))"
   ]
  },
  {
   "cell_type": "markdown",
   "metadata": {},
   "source": [
    "<p style = \"color:orange; font-size:24px; text-align:center;\"> Define the model </p>"
   ]
  },
  {
   "cell_type": "code",
   "execution_count": null,
   "metadata": {},
   "outputs": [],
   "source": [
    "def Cancer_clasifier(input_shapes):\n",
    "    \n",
    "    X_input = Input(input_shapes)\n",
    "    \n",
    "    XX = Conv2D(8, kernel_size = (1,1), strides=(1, 1), padding = 'same', \n",
    "                kernel_initializer='glorot_uniform')(X_input)       \n",
    "    XX = BatchNormalization(axis = -1)(XX)\n",
    "    XX = Activation('relu')(XX)\n",
    "    # XX = MaxPooling2D(2,2)(XX)\n",
    " \n",
    "\n",
    "    for no_filters in [16, 16*2]:\n",
    "        XX = Conv2D(no_filters, kernel_size = (4,4), strides=(1, 1), padding = 'same')(XX)\n",
    "        XX = BatchNormalization(axis = -1)(XX)\n",
    "        XX = Activation('relu')(XX)\n",
    "        XX = MaxPooling2D(2,2)(XX)\n",
    "\n",
    "    \n",
    "    # --- Output Layer\n",
    "    XX = Flatten()(XX)\n",
    "    \n",
    "    XX = Dense(100)(XX)\n",
    "    XX = Activation('relu')(XX)\n",
    "    XX = Dropout(0.5)(XX)\n",
    "    \n",
    "    XX = Dense(1, activation='sigmoid')(XX)\n",
    "    \n",
    "    model = Model(inputs = X_input, outputs = XX, name='Cancer_clasifier')\n",
    "              \n",
    "    return model"
   ]
  },
  {
   "cell_type": "markdown",
   "metadata": {},
   "source": [
    "<p style = \"color:orange; font-size:24px; text-align:center;\"> Train the model </p>"
   ]
  },
  {
   "cell_type": "code",
   "execution_count": null,
   "metadata": {},
   "outputs": [],
   "source": [
    "my_cancer_model = Cancer_clasifier(X.shape[1:])\n",
    "\n",
    "optimizing_function = Adam(0.0001, beta_1=0.9, beta_2 = 0.999)\n",
    "\n",
    "my_cancer_model.compile(optimizer = optimizing_function, loss='binary_crossentropy', metrics=['accuracy'])\n",
    "\n",
    "history = my_cancer_model.fit(x = X, y = Y, validation_data=(X_test,Y_test), epochs = 10, batch_size = 100)"
   ]
  },
  {
   "cell_type": "markdown",
   "metadata": {},
   "source": [
    "Evaluate model with confussion matrix"
   ]
  },
  {
   "cell_type": "code",
   "execution_count": null,
   "metadata": {},
   "outputs": [],
   "source": [
    "Y_pred = my_cancer_model.predict(X_test)\n",
    "\n",
    "cm = confusion_matrix(Y_test, Y_pred)\n",
    "total = sum(sum(cm))\n",
    "accuracy = (cm[0,0]+cm[1,1])/total\n",
    "\n",
    "print('Confusion matrix is: \\n', cm)\n",
    "\n",
    "print('summary of the model')\n",
    "my_cancer_model.summary()"
   ]
  },
  {
   "cell_type": "markdown",
   "metadata": {},
   "source": [
    "<p style = \"color:orange; font-size:24px; text-align:center;\"> Plot the loss </p>"
   ]
  },
  {
   "cell_type": "code",
   "execution_count": null,
   "metadata": {},
   "outputs": [],
   "source": [
    "import matplotlib.pyplot as plt\n",
    "\n",
    "plt.figure()\n",
    "plt.plot(history.history['loss'], 'b')\n",
    "plt.plot(history.history['val_loss'], 'r')\n",
    "plt.legend(['train', 'validation'], loc='upper right')\n",
    "plt.xlabel('Epochs')\n",
    "plt.ylabel('Loss')\n",
    "plt.title('Batch = 100, LR_Adam = 0.0001, \\n 8,16 and 32 filters with Last layer and Dropout 0.5')\n",
    "\n",
    "# -- If you want to save the image uncomment this line\n",
    "#plt.savefig('11_May_Batch100_LR0.0001_8_1x1_16&32_4x4_Dropout_PlusLastLayer.png')"
   ]
  },
  {
   "cell_type": "code",
   "execution_count": null,
   "metadata": {},
   "outputs": [],
   "source": [
    "Optionaly save the model:"
   ]
  },
  {
   "cell_type": "code",
   "execution_count": null,
   "metadata": {},
   "outputs": [],
   "source": [
    "'''\n",
    "# serialize model to JSON\n",
    "model_json = my_cancer_model.to_json()\n",
    "with open(\"my_cancer_model_10May_50epochs.json\", \"w\") as json_file:\n",
    "    json_file.write(model_json)\n",
    "    \n",
    "# serialize weights to HDF5\n",
    "my_cancer_model.save_weights(\"my_cancer_model_10May_50epochs.h5\")\n",
    "'''"
   ]
  }
 ],
 "metadata": {
  "kernelspec": {
   "display_name": "Python 3",
   "language": "python",
   "name": "python3"
  },
  "language_info": {
   "codemirror_mode": {
    "name": "ipython",
    "version": 3
   },
   "file_extension": ".py",
   "mimetype": "text/x-python",
   "name": "python",
   "nbconvert_exporter": "python",
   "pygments_lexer": "ipython3",
   "version": "3.7.7"
  }
 },
 "nbformat": 4,
 "nbformat_minor": 4
}
