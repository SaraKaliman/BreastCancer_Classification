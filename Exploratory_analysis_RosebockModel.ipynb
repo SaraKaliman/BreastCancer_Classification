{
 "cells": [
  {
   "cell_type": "markdown",
   "metadata": {},
   "source": [
    "<h2> Exploratory analysis of Rosenbock's CNN arhitecture </h2>\n",
    "<p> This file contains exploratory analysis of a CNN arhitecture proposed by Adrian Reosenbock in his online project:</p>\n",
    "<p>https://www.pyimagesearch.com/2019/02/18/breast-cancer-classification-with-keras-and-deep-learning/ </p>\n",
    "<p> \n",
    "On a subset with 30,000 images this model achived at most 75% accuracy on validation set. \n",
    "</p>"
   ]
  },
  {
   "cell_type": "code",
   "execution_count": 2,
   "metadata": {},
   "outputs": [],
   "source": [
    "import numpy as np\n",
    "import h5py\n",
    "from tensorflow.keras.models import Model\n",
    "from tensorflow.keras.layers import Input, Flatten, SeparableConv2D, BatchNormalization, Dense, Dropout, MaxPooling2D, Activation\n",
    "from tensorflow.keras.optimizers import Adam, Adagrad\n",
    "import numpy as np\n",
    "from sklearn.metrics import confusion_matrix"
   ]
  },
  {
   "cell_type": "code",
   "execution_count": 3,
   "metadata": {},
   "outputs": [],
   "source": [
    "def load_dataset():\n",
    "\n",
    "    f = h5py.File('Test_Set.h5', 'r')\n",
    "    X_test = np.array(f['array'][:]) # your train set features\n",
    "    f.close()\n",
    "    \n",
    "    f = h5py.File('Test_Label.h5', 'r')\n",
    "    Y_test = np.array(f['array'][:]) # your train set features\n",
    "    f.close()\n",
    "    \n",
    "    f = h5py.File('Train_Set.h5', 'r')\n",
    "    X = np.array(f['array'][:]) # your train set features\n",
    "    f.close()\n",
    "    \n",
    "    f = h5py.File('Train_Label.h5', 'r')\n",
    "    Y = np.array(f['array'][:]) # your train set features\n",
    "    f.close()\n",
    "    \n",
    "    return X, Y, X_test, Y_test"
   ]
  },
  {
   "cell_type": "code",
   "execution_count": 4,
   "metadata": {},
   "outputs": [],
   "source": [
    "# --------- Load the data ------------\n",
    "\n",
    "X, Y, X_test, Y_test = load_dataset()"
   ]
  },
  {
   "cell_type": "code",
   "execution_count": 9,
   "metadata": {},
   "outputs": [
    {
     "name": "stdout",
     "output_type": "stream",
     "text": [
      "Total number of examples to train  30000\n",
      "Number of negative examples 15000\n"
     ]
    }
   ],
   "source": [
    "# -------- Transform (30,000 x 1) matrix Y into (30,000 x 2) dimensional matrix ------------------\n",
    "Y_classes = np.zeros((Y.shape[0], 2))\n",
    "Y_classes[np.where(Y==0)[0],0] = 1 # 1 at possition Y_classes[n ,0] encodes a negative example \n",
    "Y_classes[np.where(Y==1)[0],1] = 1 # 1 at possition Y_classes[n ,1] encodes a positive example \n",
    "\n",
    "Y_classes_test = np.zeros((Y_test.shape[0], 2))\n",
    "Y_classes_test[np.where(Y_test==0)[0],0] = 1\n",
    "Y_classes_test[np.where(Y_test==1)[0],1] = 1\n",
    "\n",
    "print('Total number of examples to train ', Y.shape[0])\n",
    "print('Number of negative examples', len(np.where (Y == 1)[0]))"
   ]
  },
  {
   "cell_type": "markdown",
   "metadata": {},
   "source": [
    "<p style = \"color:orange; font-size:24px; text-align:center;\"> Define Rocenbock's model </p>"
   ]
  },
  {
   "cell_type": "code",
   "execution_count": 7,
   "metadata": {},
   "outputs": [],
   "source": [
    "def Cancer_clasifier(input_shapes):\n",
    "    \n",
    "    X_input = Input(input_shapes)\n",
    "    \n",
    "    XX = SeparableConv2D(32, kernel_size = (3,3), strides=(1, 1), padding = 'same')(X_input)\n",
    "    XX = Activation('relu')(XX)\n",
    "    XX = BatchNormalization()(XX)\n",
    "    XX = MaxPooling2D(2,2)(XX)\n",
    "    XX = Dropout(0.25)(XX)\n",
    "\n",
    "    XX = SeparableConv2D(64, kernel_size = (3,3), strides=(1, 1), padding = 'same')(XX)\n",
    "    XX = Activation('relu')(XX)\n",
    "    XX = BatchNormalization()(XX)\n",
    "    XX = SeparableConv2D(64, kernel_size = (3,3), strides=(1, 1), padding = 'same')(XX)\n",
    "    XX = Activation('relu')(XX)\n",
    "    XX = BatchNormalization()(XX)  \n",
    "    XX = MaxPooling2D(2,2)(XX)\n",
    "    XX = Dropout(0.25)(XX)\n",
    "    \n",
    "    XX = SeparableConv2D(128, kernel_size = (3,3), strides=(1, 1), padding = 'same')(XX)\n",
    "    XX = Activation('relu')(XX)\n",
    "    XX = BatchNormalization()(XX)\n",
    "    XX = SeparableConv2D(128, kernel_size = (3,3), strides=(1, 1), padding = 'same')(XX)\n",
    "    XX = Activation('relu')(XX)\n",
    "    XX = BatchNormalization()(XX)\n",
    "    XX = SeparableConv2D(128, kernel_size = (3,3), strides=(1, 1), padding = 'same')(XX)\n",
    "    XX = Activation('relu')(XX)\n",
    "    XX = BatchNormalization()(XX)\n",
    "    XX = MaxPooling2D(2,2)(XX)\n",
    "    XX = Dropout(0.25)(XX)\n",
    "\n",
    "    \n",
    "    # --- Output Layer\n",
    "    XX = Flatten()(XX)\n",
    "    \n",
    "    XX = Dense(256, activation = 'relu')(XX)\n",
    "    XX = BatchNormalization()(XX)\n",
    "    XX = Dropout(0.5)(XX)\n",
    "\n",
    "    \n",
    "    XX = Dense(2, activation='softmax')(XX)\n",
    "    \n",
    "    model = Model(inputs = X_input, outputs = XX, name='Cancer_clasifier')\n",
    "              \n",
    "    return model"
   ]
  },
  {
   "cell_type": "markdown",
   "metadata": {},
   "source": [
    "<p style = \"color:orange; font-size:24px; text-align:center;\"> Train Rosenbock's model </p>"
   ]
  },
  {
   "cell_type": "code",
   "execution_count": 10,
   "metadata": {
    "scrolled": true
   },
   "outputs": [
    {
     "name": "stdout",
     "output_type": "stream",
     "text": [
      "Model: \"Cancer_clasifier\"\n",
      "_________________________________________________________________\n",
      "Layer (type)                 Output Shape              Param #   \n",
      "=================================================================\n",
      "input_3 (InputLayer)         [(None, 50, 50, 3)]       0         \n",
      "_________________________________________________________________\n",
      "separable_conv2d_7 (Separabl (None, 50, 50, 32)        155       \n",
      "_________________________________________________________________\n",
      "activation_7 (Activation)    (None, 50, 50, 32)        0         \n",
      "_________________________________________________________________\n",
      "batch_normalization_8 (Batch (None, 50, 50, 32)        128       \n",
      "_________________________________________________________________\n",
      "max_pooling2d_3 (MaxPooling2 (None, 25, 25, 32)        0         \n",
      "_________________________________________________________________\n",
      "dropout_4 (Dropout)          (None, 25, 25, 32)        0         \n",
      "_________________________________________________________________\n",
      "separable_conv2d_8 (Separabl (None, 25, 25, 64)        2400      \n",
      "_________________________________________________________________\n",
      "activation_8 (Activation)    (None, 25, 25, 64)        0         \n",
      "_________________________________________________________________\n",
      "batch_normalization_9 (Batch (None, 25, 25, 64)        256       \n",
      "_________________________________________________________________\n",
      "separable_conv2d_9 (Separabl (None, 25, 25, 64)        4736      \n",
      "_________________________________________________________________\n",
      "activation_9 (Activation)    (None, 25, 25, 64)        0         \n",
      "_________________________________________________________________\n",
      "batch_normalization_10 (Batc (None, 25, 25, 64)        256       \n",
      "_________________________________________________________________\n",
      "max_pooling2d_4 (MaxPooling2 (None, 12, 12, 64)        0         \n",
      "_________________________________________________________________\n",
      "dropout_5 (Dropout)          (None, 12, 12, 64)        0         \n",
      "_________________________________________________________________\n",
      "separable_conv2d_10 (Separab (None, 12, 12, 128)       8896      \n",
      "_________________________________________________________________\n",
      "activation_10 (Activation)   (None, 12, 12, 128)       0         \n",
      "_________________________________________________________________\n",
      "batch_normalization_11 (Batc (None, 12, 12, 128)       512       \n",
      "_________________________________________________________________\n",
      "separable_conv2d_11 (Separab (None, 12, 12, 128)       17664     \n",
      "_________________________________________________________________\n",
      "activation_11 (Activation)   (None, 12, 12, 128)       0         \n",
      "_________________________________________________________________\n",
      "batch_normalization_12 (Batc (None, 12, 12, 128)       512       \n",
      "_________________________________________________________________\n",
      "separable_conv2d_12 (Separab (None, 12, 12, 128)       17664     \n",
      "_________________________________________________________________\n",
      "activation_12 (Activation)   (None, 12, 12, 128)       0         \n",
      "_________________________________________________________________\n",
      "batch_normalization_13 (Batc (None, 12, 12, 128)       512       \n",
      "_________________________________________________________________\n",
      "max_pooling2d_5 (MaxPooling2 (None, 6, 6, 128)         0         \n",
      "_________________________________________________________________\n",
      "dropout_6 (Dropout)          (None, 6, 6, 128)         0         \n",
      "_________________________________________________________________\n",
      "flatten_1 (Flatten)          (None, 4608)              0         \n",
      "_________________________________________________________________\n",
      "dense_2 (Dense)              (None, 256)               1179904   \n",
      "_________________________________________________________________\n",
      "batch_normalization_14 (Batc (None, 256)               1024      \n",
      "_________________________________________________________________\n",
      "dropout_7 (Dropout)          (None, 256)               0         \n",
      "_________________________________________________________________\n",
      "dense_3 (Dense)              (None, 2)                 514       \n",
      "=================================================================\n",
      "Total params: 1,235,133\n",
      "Trainable params: 1,233,533\n",
      "Non-trainable params: 1,600\n",
      "_________________________________________________________________\n",
      "Epoch 1/40\n",
      "938/938 [==============================] - 382s 407ms/step - loss: 0.4795 - accuracy: 0.7991 - val_loss: 0.6001 - val_accuracy: 0.6855\n",
      "Epoch 2/40\n",
      "938/938 [==============================] - 391s 417ms/step - loss: 0.3975 - accuracy: 0.8276 - val_loss: 0.4528 - val_accuracy: 0.8052\n",
      "Epoch 3/40\n",
      "938/938 [==============================] - 379s 404ms/step - loss: 0.3740 - accuracy: 0.8398 - val_loss: 0.7163 - val_accuracy: 0.7215\n",
      "Epoch 4/40\n",
      "938/938 [==============================] - 385s 411ms/step - loss: 0.3543 - accuracy: 0.8517 - val_loss: 1.0578 - val_accuracy: 0.7274\n",
      "Epoch 5/40\n",
      "938/938 [==============================] - 386s 412ms/step - loss: 0.3393 - accuracy: 0.8574 - val_loss: 0.7997 - val_accuracy: 0.7548\n",
      "Epoch 6/40\n",
      "938/938 [==============================] - 385s 410ms/step - loss: 0.3319 - accuracy: 0.8617 - val_loss: 1.5248 - val_accuracy: 0.6995\n",
      "Epoch 7/40\n",
      "938/938 [==============================] - 407s 434ms/step - loss: 0.3240 - accuracy: 0.8663 - val_loss: 0.8978 - val_accuracy: 0.7437\n",
      "Epoch 8/40\n",
      "938/938 [==============================] - 401s 428ms/step - loss: 0.3172 - accuracy: 0.8692 - val_loss: 1.0262 - val_accuracy: 0.7366\n",
      "Epoch 9/40\n",
      "938/938 [==============================] - 421s 449ms/step - loss: 0.3114 - accuracy: 0.8704 - val_loss: 1.6325 - val_accuracy: 0.6827\n",
      "Epoch 10/40\n",
      "938/938 [==============================] - 399s 425ms/step - loss: 0.3105 - accuracy: 0.8695 - val_loss: 1.0717 - val_accuracy: 0.7291\n",
      "Epoch 11/40\n",
      "938/938 [==============================] - 395s 421ms/step - loss: 0.3015 - accuracy: 0.8760 - val_loss: 0.8725 - val_accuracy: 0.7418\n",
      "Epoch 12/40\n",
      "938/938 [==============================] - 439s 468ms/step - loss: 0.2986 - accuracy: 0.8773 - val_loss: 0.8234 - val_accuracy: 0.7331\n",
      "Epoch 13/40\n",
      "938/938 [==============================] - 547s 584ms/step - loss: 0.2906 - accuracy: 0.8781 - val_loss: 1.4487 - val_accuracy: 0.7172\n",
      "Epoch 14/40\n",
      "938/938 [==============================] - 420s 448ms/step - loss: 0.2872 - accuracy: 0.8808 - val_loss: 1.2860 - val_accuracy: 0.7211\n",
      "Epoch 15/40\n",
      "938/938 [==============================] - 409s 436ms/step - loss: 0.2829 - accuracy: 0.8822 - val_loss: 0.8733 - val_accuracy: 0.7476\n",
      "Epoch 16/40\n",
      "938/938 [==============================] - 372s 397ms/step - loss: 0.2801 - accuracy: 0.8849 - val_loss: 1.1306 - val_accuracy: 0.7444\n",
      "Epoch 17/40\n",
      "938/938 [==============================] - 373s 397ms/step - loss: 0.2741 - accuracy: 0.8888 - val_loss: 1.4477 - val_accuracy: 0.7208\n",
      "Epoch 18/40\n",
      "938/938 [==============================] - 390s 415ms/step - loss: 0.2773 - accuracy: 0.8862 - val_loss: 1.0608 - val_accuracy: 0.7498\n",
      "Epoch 19/40\n",
      "938/938 [==============================] - 391s 417ms/step - loss: 0.2671 - accuracy: 0.8895 - val_loss: 1.3766 - val_accuracy: 0.7339\n",
      "Epoch 20/40\n",
      "938/938 [==============================] - 400s 426ms/step - loss: 0.2653 - accuracy: 0.8910 - val_loss: 0.9710 - val_accuracy: 0.7371\n",
      "Epoch 21/40\n",
      "938/938 [==============================] - 406s 433ms/step - loss: 0.2621 - accuracy: 0.8926 - val_loss: 1.1544 - val_accuracy: 0.7358\n",
      "Epoch 22/40\n",
      "938/938 [==============================] - 386s 411ms/step - loss: 0.2606 - accuracy: 0.8945 - val_loss: 1.0126 - val_accuracy: 0.7390\n",
      "Epoch 23/40\n",
      "938/938 [==============================] - 386s 412ms/step - loss: 0.2596 - accuracy: 0.8921 - val_loss: 1.0405 - val_accuracy: 0.7322\n",
      "Epoch 24/40\n",
      "938/938 [==============================] - 398s 425ms/step - loss: 0.2573 - accuracy: 0.8961 - val_loss: 1.3369 - val_accuracy: 0.7166\n",
      "Epoch 25/40\n",
      "938/938 [==============================] - 407s 434ms/step - loss: 0.2555 - accuracy: 0.8951 - val_loss: 1.2365 - val_accuracy: 0.7355\n",
      "Epoch 26/40\n",
      "938/938 [==============================] - 431s 460ms/step - loss: 0.2561 - accuracy: 0.8948 - val_loss: 0.9673 - val_accuracy: 0.7494\n",
      "Epoch 27/40\n"
     ]
    },
    {
     "name": "stdout",
     "output_type": "stream",
     "text": [
      "938/938 [==============================] - 469s 500ms/step - loss: 0.2496 - accuracy: 0.8993 - val_loss: 0.9368 - val_accuracy: 0.7498\n",
      "Epoch 28/40\n",
      "938/938 [==============================] - 387s 413ms/step - loss: 0.2495 - accuracy: 0.8979 - val_loss: 1.2628 - val_accuracy: 0.7292\n",
      "Epoch 29/40\n",
      "938/938 [==============================] - 386s 411ms/step - loss: 0.2458 - accuracy: 0.9006 - val_loss: 0.9799 - val_accuracy: 0.7279\n",
      "Epoch 30/40\n",
      "938/938 [==============================] - 379s 404ms/step - loss: 0.2435 - accuracy: 0.9007 - val_loss: 1.3427 - val_accuracy: 0.7209\n",
      "Epoch 31/40\n",
      "938/938 [==============================] - 373s 398ms/step - loss: 0.2425 - accuracy: 0.9019 - val_loss: 1.1401 - val_accuracy: 0.7355\n",
      "Epoch 32/40\n",
      "938/938 [==============================] - 380s 405ms/step - loss: 0.2429 - accuracy: 0.9011 - val_loss: 1.0538 - val_accuracy: 0.7408\n",
      "Epoch 33/40\n",
      "938/938 [==============================] - 390s 416ms/step - loss: 0.2420 - accuracy: 0.9005 - val_loss: 1.3827 - val_accuracy: 0.7103\n",
      "Epoch 34/40\n",
      "938/938 [==============================] - 377s 402ms/step - loss: 0.2395 - accuracy: 0.9015 - val_loss: 1.0623 - val_accuracy: 0.7333\n",
      "Epoch 35/40\n",
      "938/938 [==============================] - 388s 413ms/step - loss: 0.2317 - accuracy: 0.9065 - val_loss: 1.4147 - val_accuracy: 0.7230\n",
      "Epoch 36/40\n",
      "938/938 [==============================] - 396s 422ms/step - loss: 0.2321 - accuracy: 0.9070 - val_loss: 1.2290 - val_accuracy: 0.7338\n",
      "Epoch 37/40\n",
      "938/938 [==============================] - 379s 404ms/step - loss: 0.2335 - accuracy: 0.9053 - val_loss: 1.6944 - val_accuracy: 0.7139\n",
      "Epoch 38/40\n",
      "938/938 [==============================] - 391s 416ms/step - loss: 0.2290 - accuracy: 0.9065 - val_loss: 1.3209 - val_accuracy: 0.7183\n",
      "Epoch 39/40\n",
      "938/938 [==============================] - 393s 419ms/step - loss: 0.2266 - accuracy: 0.9071 - val_loss: 1.4728 - val_accuracy: 0.7171\n",
      "Epoch 40/40\n",
      "938/938 [==============================] - 407s 433ms/step - loss: 0.2236 - accuracy: 0.9078 - val_loss: 1.0200 - val_accuracy: 0.7376\n"
     ]
    }
   ],
   "source": [
    "my_cancer_model = Cancer_clasifier(X.shape[1:])\n",
    "my_cancer_model.summary()\n",
    "\n",
    "optimizing_function = Adagrad(learning_rate = 1e-2)\n",
    "\n",
    "my_cancer_model.compile(optimizer = optimizing_function, loss='binary_crossentropy', metrics=['accuracy'])\n",
    "\n",
    "history = my_cancer_model.fit(x = X, y = Y_classes, validation_data=(X_test,Y_classes_test), epochs = 40, batch_size = 32)"
   ]
  },
  {
   "cell_type": "markdown",
   "metadata": {},
   "source": [
    "<p style = \"color:orange; font-size:24px; text-align:center;\"> Plot the loss </p>"
   ]
  },
  {
   "cell_type": "code",
   "execution_count": 11,
   "metadata": {},
   "outputs": [
    {
     "data": {
      "text/plain": [
       "Text(0.5, 1.0, 'Batch = 32, LR_Adagrad = 0.01, Rosebrock Model trained on 15,000 negative and 15,000 positive examples')"
      ]
     },
     "execution_count": 11,
     "metadata": {},
     "output_type": "execute_result"
    },
    {
     "data": {
      "image/png": "[encoded data removed]",
      "text/plain": [
       "<Figure size 432x288 with 1 Axes>"
      ]
     },
     "metadata": {
      "needs_background": "light"
     },
     "output_type": "display_data"
    }
   ],
   "source": [
    "import matplotlib.pyplot as plt\n",
    "\n",
    "plt.figure()\n",
    "plt.plot(history.history['loss'], 'b')\n",
    "plt.plot(history.history['val_loss'], 'r')\n",
    "plt.legend(['train', 'validation'], loc='upper right')\n",
    "plt.xlabel('Epochs')\n",
    "plt.ylabel('Loss')\n",
    "plt.title('Batch = 32, LR_Adagrad = 0.01, Rosebrock Model trained on 15,000 negative and 15,000 positive examples')\n",
    "\n",
    "# -- If you want to save the image uncomment this line\n",
    "#plt.savefig('Model1_Exploratory.png')"
   ]
  },
  {
   "cell_type": "markdown",
   "metadata": {},
   "source": [
    "As we see from the plot, validation error fluctuates and does not converge."
   ]
  }
 ],
 "metadata": {
  "kernelspec": {
   "display_name": "Python 3",
   "language": "python",
   "name": "python3"
  },
  "language_info": {
   "codemirror_mode": {
    "name": "ipython",
    "version": 3
   },
   "file_extension": ".py",
   "mimetype": "text/x-python",
   "name": "python",
   "nbconvert_exporter": "python",
   "pygments_lexer": "ipython3",
   "version": "3.7.7"
  }
 },
 "nbformat": 4,
 "nbformat_minor": 4
}
