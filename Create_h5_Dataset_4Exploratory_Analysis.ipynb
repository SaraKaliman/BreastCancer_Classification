{
 "cells": [
  {
   "cell_type": "markdown",
   "metadata": {},
   "source": [
    "<h1>File to create small train (30,000 images) and test (20,000 images) subset and save it as h5 file.</h1>\n",
    "\n",
    "<p style=\"font-size: 18px; color:blue;\"> This subset of images will be loaded by \"Exploratory_analysis.ipynb\" file. </p>\n",
    "\n",
    "<p> Not-standard packages needed are OpenCV and Imutils. </p>\n",
    "<p> <i> pip install opencv-python </i> </p>\n",
    "<p> <i> pip install imutils </i> </p>\n",
    "<p> I had OpenCV-Python 4.2.0.34, and imutils 0.5.3 </p>\n",
    "    "
   ]
  },
  {
   "cell_type": "code",
   "execution_count": null,
   "metadata": {},
   "outputs": [],
   "source": [
    "from cv2 import imread, resize\n",
    "from imutils import paths\n",
    "import random, os\n",
    "import numpy as np\n",
    "import h5py\n",
    "\n",
    "random.seed(0)\n",
    "print('Current working directory is')\n",
    "pwd"
   ]
  },
  {
   "cell_type": "markdown",
   "metadata": {},
   "source": [
    "Make sure that you at at the right directory or that you point to the directory there your original IDC data set is saved."
   ]
  },
  {
   "cell_type": "code",
   "execution_count": null,
   "metadata": {},
   "outputs": [],
   "source": [
    "# --- Find all paths to negative and positive exaples in validation set\n",
    "Paths_example_0 = list(paths.list_images(\"breast_cancer_data\\\\arranged\\\\testing\\\\0\"))\n",
    "Paths_example_1 = list(paths.list_images(\"breast_cancer_data\\\\arranged\\\\testing\\\\1\"))"
   ]
  },
  {
   "cell_type": "markdown",
   "metadata": {},
   "source": [
    "Fistly, the Test set is created from 1,000 positive and 1,000 negative IDC image examples."
   ]
  },
  {
   "cell_type": "code",
   "execution_count": null,
   "metadata": {},
   "outputs": [],
   "source": [
    "starting_point = 0\n",
    "num_of_examples_to_train = starting_point + 10000\n",
    "\n",
    "# --- Select first 'num_of_examples_to_train' random images for positive and negative examples\n",
    "# ---- Combine pos & neg examples and shuffle them\n",
    "Paths_train = Paths_example_0[starting_point:num_of_examples_to_train] + Paths_example_1[starting_point:num_of_examples_to_train]\n",
    "random.shuffle(Paths_train)\n",
    "\n",
    "print('Test set has size of ', len(Paths_train), ' images')\n",
    "# --- Define target image size\n",
    "image_size = (50,50,3)\n",
    "\n",
    "# --- Initialize set of images with zeros\n",
    "X = np.zeros((len(Paths_train), image_size[0], image_size[1], image_size[2]))\n",
    "Y = np.zeros((len(Paths_train), 1))\n",
    "\n",
    "# --- Read all images in Paths_train and save them in X, save 0 or 1 in Y\n",
    "n = 0\n",
    "X_set = []\n",
    "Y_set = []\n",
    "for path in Paths_train:\n",
    "    \n",
    "    image = imread(path)\n",
    "    \n",
    "    if image.shape == image_size:\n",
    "        X[n,:] = image/255.\n",
    "    else:\n",
    "        X[n,:] = resize(image, (50,50))/255.\n",
    "            \n",
    "    Y[n,:] = path.split(os.path.sep)[-1][-5]\n",
    "    n = n + 1"
   ]
  },
  {
   "cell_type": "code",
   "execution_count": null,
   "metadata": {},
   "outputs": [],
   "source": [
    "archive = h5py.File('Test_Set.h5', 'w')\n",
    "archive.create_dataset('/array', data = X)\n",
    "archive.close()\n",
    "\n",
    "archive = h5py.File('Test_Label.h5', 'w')\n",
    "archive.create_dataset('/array', data = Y)\n",
    "archive.close()"
   ]
  },
  {
   "cell_type": "markdown",
   "metadata": {},
   "source": [
    " <p style=\"font-size: 18px; color:orange;\"> Now do the same for the Train set </p>"
   ]
  },
  {
   "cell_type": "code",
   "execution_count": null,
   "metadata": {},
   "outputs": [],
   "source": [
    "starting_point = 20000\n",
    "num_of_examples_to_train = starting_point + 15000\n",
    "\n",
    "# --- Select first 'num_of_examples_to_train' random images for positive and negative examples\n",
    "# ---- Combine pos & neg examples and shuffle them\n",
    "Paths_train = Paths_example_0[starting_point:num_of_examples_to_train] + Paths_example_1[starting_point:num_of_examples_to_train]\n",
    "\n",
    "random.seed(0)\n",
    "random.shuffle(Paths_train)\n",
    "\n",
    "print('Train set is of size', len(Paths_train))\n",
    "\n",
    "# --- Define target image size\n",
    "image_size = (50,50,3)\n",
    "\n",
    "# --- Initialize set of images with zeros\n",
    "X = np.zeros((len(Paths_train), image_size[0], image_size[1], image_size[2]))\n",
    "Y = np.zeros((len(Paths_train), 1))\n",
    "\n",
    "# --- Read all images in Paths_train and save them in X, save 0 or 1 in Y\n",
    "n = 0\n",
    "X_set = []\n",
    "Y_set = []\n",
    "for path in Paths_train:\n",
    "    \n",
    "    image = imread(path)\n",
    "    \n",
    "    if image.shape == image_size:\n",
    "        X[n,:] = image/255.\n",
    "    else:\n",
    "        X[n,:] = resize(image, (50,50))/255.\n",
    "            \n",
    "    Y[n,:] = path.split(os.path.sep)[-1][-5]\n",
    "    n = n + 1"
   ]
  },
  {
   "cell_type": "code",
   "execution_count": null,
   "metadata": {},
   "outputs": [],
   "source": [
    "archive = h5py.File('Train_Set.h5', 'w')\n",
    "archive.create_dataset('/array', data = X)\n",
    "archive.close()\n",
    "\n",
    "archive = h5py.File('Train_Label.h5', 'w')\n",
    "archive.create_dataset('/array', data = Y)\n",
    "archive.close()"
   ]
  }
 ],
 "metadata": {
  "kernelspec": {
   "display_name": "Python 3",
   "language": "python",
   "name": "python3"
  },
  "language_info": {
   "codemirror_mode": {
    "name": "ipython",
    "version": 3
   },
   "file_extension": ".py",
   "mimetype": "text/x-python",
   "name": "python",
   "nbconvert_exporter": "python",
   "pygments_lexer": "ipython3",
   "version": "3.7.7"
  }
 },
 "nbformat": 4,
 "nbformat_minor": 4
}
