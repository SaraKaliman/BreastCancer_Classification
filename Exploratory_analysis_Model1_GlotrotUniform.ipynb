{
 "cells": [
  {
   "cell_type": "markdown",
   "metadata": {},
   "source": [
    "<h2> Exploratory analysis for a choice of hyperparameters in my Cancer classifier model </h2>\n",
    "<p> In this Notebook Model weights are initilized by Xavier uniform initializer. </p>"
   ]
  },
  {
   "cell_type": "code",
   "execution_count": 1,
   "metadata": {},
   "outputs": [],
   "source": [
    "import numpy as np\n",
    "import h5py\n",
    "from tensorflow.keras.models import Model\n",
    "from tensorflow.keras.layers import Input, Flatten, Conv2D, BatchNormalization, Dense, Dropout, MaxPooling2D, Activation\n",
    "from tensorflow.keras.optimizers import Adam\n",
    "import numpy as np\n",
    "from sklearn.metrics import confusion_matrix"
   ]
  },
  {
   "cell_type": "code",
   "execution_count": 2,
   "metadata": {},
   "outputs": [],
   "source": [
    "def load_dataset():\n",
    "\n",
    "    f = h5py.File('Test_Set.h5', 'r')\n",
    "    X_test = np.array(f['array'][:]) # your train set features\n",
    "    f.close()\n",
    "    \n",
    "    f = h5py.File('Test_Label.h5', 'r')\n",
    "    Y_test = np.array(f['array'][:]) # your train set features\n",
    "    f.close()\n",
    "    \n",
    "    f = h5py.File('Train_Set.h5', 'r')\n",
    "    X = np.array(f['array'][:]) # your train set features\n",
    "    f.close()\n",
    "    \n",
    "    f = h5py.File('Train_Label.h5', 'r')\n",
    "    Y = np.array(f['array'][:]) # your train set features\n",
    "    f.close()\n",
    "    \n",
    "    return X, Y, X_test, Y_test"
   ]
  },
  {
   "cell_type": "code",
   "execution_count": 3,
   "metadata": {},
   "outputs": [
    {
     "name": "stdout",
     "output_type": "stream",
     "text": [
      "Total number of examples to train  30000\n",
      "Number of negative examples 15000\n"
     ]
    }
   ],
   "source": [
    "# --------- Load the data ------------\n",
    "\n",
    "X, Y, X_test, Y_test = load_dataset()\n",
    "\n",
    "print('Total number of examples to train ', Y.shape[0])\n",
    "print('Number of negative examples', len(np.where (Y == 1)[0]))"
   ]
  },
  {
   "cell_type": "markdown",
   "metadata": {},
   "source": [
    "<h2> Define the model </h2>"
   ]
  },
  {
   "cell_type": "code",
   "execution_count": 4,
   "metadata": {},
   "outputs": [],
   "source": [
    "def Cancer_clasifier(input_shapes):\n",
    "    \n",
    "    X_input = Input(input_shapes)\n",
    "    \n",
    "    XX = Conv2D(8, kernel_size = (2,2), strides=(1, 1), padding = 'same', \n",
    "                kernel_initializer='GlorotUniform')(X_input)       \n",
    "    XX = BatchNormalization(axis = -1)(XX)\n",
    "    XX = Activation('relu')(XX)\n",
    "    XX = MaxPooling2D(2,2)(XX)\n",
    " \n",
    "\n",
    "    for no_filters in [16]:\n",
    "        XX = Conv2D(no_filters, kernel_size = (4,4), strides=(1, 1), padding = 'same')(XX)\n",
    "        XX = BatchNormalization(axis = -1)(XX)\n",
    "        XX = Activation('relu')(XX)\n",
    "        XX = MaxPooling2D(2,2)(XX)\n",
    "\n",
    "    \n",
    "    # --- Output Layer\n",
    "    XX = Flatten()(XX)\n",
    "    \n",
    "    XX = Dense(1, activation='sigmoid')(XX)\n",
    "    \n",
    "    model = Model(inputs = X_input, outputs = XX, name='Cancer_clasifier')\n",
    "              \n",
    "    return model"
   ]
  },
  {
   "cell_type": "markdown",
   "metadata": {},
   "source": [
    "<h2> Train the model </h2>"
   ]
  },
  {
   "cell_type": "code",
   "execution_count": 5,
   "metadata": {
    "scrolled": true
   },
   "outputs": [
    {
     "name": "stdout",
     "output_type": "stream",
     "text": [
      "Epoch 1/20\n",
      "300/300 [==============================] - 91s 303ms/step - loss: 0.4853 - accuracy: 0.7756 - val_loss: 0.5678 - val_accuracy: 0.7010\n",
      "Epoch 2/20\n",
      "300/300 [==============================] - 93s 309ms/step - loss: 0.4223 - accuracy: 0.8189 - val_loss: 0.5710 - val_accuracy: 0.7261\n",
      "Epoch 3/20\n",
      "300/300 [==============================] - 89s 296ms/step - loss: 0.3998 - accuracy: 0.8299 - val_loss: 0.5540 - val_accuracy: 0.7373\n",
      "Epoch 4/20\n",
      "300/300 [==============================] - 93s 310ms/step - loss: 0.3860 - accuracy: 0.8350 - val_loss: 0.4604 - val_accuracy: 0.7840\n",
      "Epoch 5/20\n",
      "300/300 [==============================] - 110s 366ms/step - loss: 0.3767 - accuracy: 0.8405 - val_loss: 0.4174 - val_accuracy: 0.8064\n",
      "Epoch 6/20\n",
      "300/300 [==============================] - 98s 326ms/step - loss: 0.3686 - accuracy: 0.8428 - val_loss: 0.4222 - val_accuracy: 0.8041\n",
      "Epoch 7/20\n",
      "300/300 [==============================] - 89s 297ms/step - loss: 0.3610 - accuracy: 0.8472 - val_loss: 0.4178 - val_accuracy: 0.8078\n",
      "Epoch 8/20\n",
      "300/300 [==============================] - 91s 303ms/step - loss: 0.3590 - accuracy: 0.8488 - val_loss: 0.4248 - val_accuracy: 0.8062\n",
      "Epoch 9/20\n",
      "300/300 [==============================] - 94s 314ms/step - loss: 0.3529 - accuracy: 0.8503 - val_loss: 0.4032 - val_accuracy: 0.8145\n",
      "Epoch 10/20\n",
      "300/300 [==============================] - 92s 307ms/step - loss: 0.3480 - accuracy: 0.8526 - val_loss: 0.4343 - val_accuracy: 0.8016\n",
      "Epoch 11/20\n",
      "300/300 [==============================] - 91s 304ms/step - loss: 0.3422 - accuracy: 0.8564 - val_loss: 0.4407 - val_accuracy: 0.7977\n",
      "Epoch 12/20\n",
      "300/300 [==============================] - 104s 348ms/step - loss: 0.3407 - accuracy: 0.8581 - val_loss: 0.5008 - val_accuracy: 0.7751\n",
      "Epoch 13/20\n",
      "300/300 [==============================] - 88s 294ms/step - loss: 0.3357 - accuracy: 0.8591 - val_loss: 0.6621 - val_accuracy: 0.7252\n",
      "Epoch 14/20\n",
      "300/300 [==============================] - 95s 315ms/step - loss: 0.3296 - accuracy: 0.8610 - val_loss: 0.5398 - val_accuracy: 0.7696\n",
      "Epoch 15/20\n",
      "300/300 [==============================] - 119s 396ms/step - loss: 0.3264 - accuracy: 0.8629 - val_loss: 0.4571 - val_accuracy: 0.7925\n",
      "Epoch 16/20\n",
      "300/300 [==============================] - 94s 312ms/step - loss: 0.3230 - accuracy: 0.8640 - val_loss: 0.5929 - val_accuracy: 0.7553\n",
      "Epoch 17/20\n",
      "300/300 [==============================] - 90s 299ms/step - loss: 0.3174 - accuracy: 0.8682 - val_loss: 0.5855 - val_accuracy: 0.7662\n",
      "Epoch 18/20\n",
      "300/300 [==============================] - 106s 355ms/step - loss: 0.3135 - accuracy: 0.8689 - val_loss: 0.7008 - val_accuracy: 0.7437\n",
      "Epoch 19/20\n",
      "300/300 [==============================] - 115s 383ms/step - loss: 0.3099 - accuracy: 0.8719 - val_loss: 0.8735 - val_accuracy: 0.7083\n",
      "Epoch 20/20\n",
      "300/300 [==============================] - 129s 432ms/step - loss: 0.3063 - accuracy: 0.8733 - val_loss: 0.7892 - val_accuracy: 0.7347\n"
     ]
    }
   ],
   "source": [
    "my_cancer_model = Cancer_clasifier(X.shape[1:])\n",
    "\n",
    "optimizing_function = Adam(0.0001, beta_1=0.9, beta_2 = 0.999)\n",
    "\n",
    "my_cancer_model.compile(optimizer = optimizing_function, loss='binary_crossentropy', metrics=['accuracy'])\n",
    "\n",
    "history = my_cancer_model.fit(x = X, y = Y, validation_data=(X_test,Y_test), epochs = 20, batch_size = 100)"
   ]
  },
  {
   "cell_type": "markdown",
   "metadata": {},
   "source": [
    "Evaluate model with confussion matrix"
   ]
  },
  {
   "cell_type": "code",
   "execution_count": 6,
   "metadata": {},
   "outputs": [
    {
     "name": "stdout",
     "output_type": "stream",
     "text": [
      "Confusion matrix is: \n",
      " [[9795  205]\n",
      " [5102 4898]]\n",
      "summary of the model\n",
      "Model: \"Cancer_clasifier\"\n",
      "_________________________________________________________________\n",
      "Layer (type)                 Output Shape              Param #   \n",
      "=================================================================\n",
      "input_1 (InputLayer)         [(None, 50, 50, 3)]       0         \n",
      "_________________________________________________________________\n",
      "conv2d (Conv2D)              (None, 50, 50, 8)         104       \n",
      "_________________________________________________________________\n",
      "batch_normalization (BatchNo (None, 50, 50, 8)         32        \n",
      "_________________________________________________________________\n",
      "activation (Activation)      (None, 50, 50, 8)         0         \n",
      "_________________________________________________________________\n",
      "max_pooling2d (MaxPooling2D) (None, 25, 25, 8)         0         \n",
      "_________________________________________________________________\n",
      "conv2d_1 (Conv2D)            (None, 25, 25, 16)        2064      \n",
      "_________________________________________________________________\n",
      "batch_normalization_1 (Batch (None, 25, 25, 16)        64        \n",
      "_________________________________________________________________\n",
      "activation_1 (Activation)    (None, 25, 25, 16)        0         \n",
      "_________________________________________________________________\n",
      "max_pooling2d_1 (MaxPooling2 (None, 12, 12, 16)        0         \n",
      "_________________________________________________________________\n",
      "flatten (Flatten)            (None, 2304)              0         \n",
      "_________________________________________________________________\n",
      "dense (Dense)                (None, 1)                 2305      \n",
      "=================================================================\n",
      "Total params: 4,569\n",
      "Trainable params: 4,521\n",
      "Non-trainable params: 48\n",
      "_________________________________________________________________\n"
     ]
    }
   ],
   "source": [
    "Y_pred = my_cancer_model.predict(X_test)\n",
    "Y_pred[Y_pred < 0.5] = 0\n",
    "Y_pred[Y_pred >= 0.5] = 1\n",
    "cm = confusion_matrix(Y_test, Y_pred)\n",
    "total = sum(sum(cm))\n",
    "accuracy = (cm[0,0]+cm[1,1])/total\n",
    "\n",
    "print('Confusion matrix is: \\n', cm)\n",
    "\n",
    "print('summary of the model')\n",
    "my_cancer_model.summary()"
   ]
  },
  {
   "cell_type": "markdown",
   "metadata": {},
   "source": [
    "<h2> Plot the loss </h2>"
   ]
  },
  {
   "cell_type": "code",
   "execution_count": 7,
   "metadata": {},
   "outputs": [
    {
     "data": {
      "text/plain": [
       "Text(0.5, 1.0, 'Batch = 100, LR_Adam = 0.0001, \\n Model 1 trained on 15,000 negative and 15,000 positive examples')"
      ]
     },
     "execution_count": 7,
     "metadata": {},
     "output_type": "execute_result"
    },
    {
     "data": {
      "image/png": "[encoded data removed]",
      "text/plain": [
       "<Figure size 432x288 with 1 Axes>"
      ]
     },
     "metadata": {
      "needs_background": "light"
     },
     "output_type": "display_data"
    }
   ],
   "source": [
    "import matplotlib.pyplot as plt\n",
    "\n",
    "plt.figure()\n",
    "plt.plot(history.history['loss'], 'b')\n",
    "plt.plot(history.history['val_loss'], 'r')\n",
    "plt.legend(['train', 'validation'], loc='upper right')\n",
    "plt.xlabel('Epochs')\n",
    "plt.ylabel('Loss')\n",
    "plt.title('Batch = 100, LR_Adam = 0.0001, \\n Model 1 trained on 15,000 negative and 15,000 positive examples')\n",
    "\n",
    "# -- If you want to save the image uncomment this line\n",
    "#plt.savefig('Model1_Exploratory.png')"
   ]
  },
  {
   "cell_type": "markdown",
   "metadata": {},
   "source": [
    "As we see from the plot, this model will benefit from early stopping."
   ]
  },
  {
   "cell_type": "code",
   "execution_count": null,
   "metadata": {},
   "outputs": [],
   "source": [
    "Optionaly save the model:"
   ]
  },
  {
   "cell_type": "code",
   "execution_count": null,
   "metadata": {},
   "outputs": [],
   "source": [
    "'''\n",
    "# serialize model to JSON\n",
    "model_json = my_cancer_model.to_json()\n",
    "with open(\"my_cancer_model_exploratory.json\", \"w\") as json_file:\n",
    "    json_file.write(model_json)\n",
    "    \n",
    "# serialize weights to HDF5\n",
    "my_cancer_model.save_weights(\"my_cancer_model_exploratory_weights.h5\")\n",
    "'''"
   ]
  }
 ],
 "metadata": {
  "kernelspec": {
   "display_name": "Python 3",
   "language": "python",
   "name": "python3"
  },
  "language_info": {
   "codemirror_mode": {
    "name": "ipython",
    "version": 3
   },
   "file_extension": ".py",
   "mimetype": "text/x-python",
   "name": "python",
   "nbconvert_exporter": "python",
   "pygments_lexer": "ipython3",
   "version": "3.7.7"
  }
 },
 "nbformat": 4,
 "nbformat_minor": 4
}
