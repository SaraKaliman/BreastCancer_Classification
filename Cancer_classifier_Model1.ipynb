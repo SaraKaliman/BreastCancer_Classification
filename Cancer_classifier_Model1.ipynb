{
 "cells": [
  {
   "cell_type": "markdown",
   "metadata": {},
   "source": [
    "<h1> Train and validate CNN model for Invasive Ductal Carcinoma classification </h1>\n",
    "\n",
    "<p> IDC accounts for the vast mayority of breast cancers. The clasification accuracy of 84.23% has been reported in \n",
    " <a href=\"https://spie.org/Publications/Proceedings/Paper/10.1117/12.2043872?SSO=1 \"> the original publication. </a></p>\n",
    "<p> Data is dowlodaed from <a href=\"https://www.kaggle.com/paultimothymooney/breast-histopathology-images\"> Kaggle  </a> and pre-arranged using \"Arange_dataset.ipynb\" available in this repository. </p>\n",
    "<p> The exact arhitecture of the CNN is decided upon exploratory analysis of the train and validation error on the substet of 30,000 and 20,000 images respecitly. To create exploratory data set \"Create_h5_Dataset_4Exploratory_Analysis.ipynb\" is used while \"Exploratory_Anylsis.ipynb\" is used for the analysis.</p>\n",
    "<h3> Package information: </h3>\n",
    "<p>Anaconda contained packages: numpy, pandas, sklearn, matplotlib </p>\n",
    "    \n",
    "<p>Aditional packages: <b>Tensorflow 2.2</p></b>\n",
    "\n",
    "<i>pip install --upgrade pip</i>\n",
    "To instal tensorflow:\n",
    "<i>pip install tensorflow </i>\n",
    "To update Tensorflow:\n",
    "<i>pip install --upgrade tensorflow</i>"
   ]
  },
  {
   "cell_type": "code",
   "execution_count": 8,
   "metadata": {},
   "outputs": [],
   "source": [
    "import numpy as np\n",
    "import pandas as pd\n",
    "import matplotlib.pyplot as plt\n",
    "import tensorflow as tf\n",
    "from tensorflow.keras.preprocessing.image import ImageDataGenerator\n",
    "from tensorflow.keras.models import Model\n",
    "from tensorflow.keras.layers import Input, Flatten, Conv2D, BatchNormalization, Dense, Dropout, MaxPooling2D, Activation\n",
    "from tensorflow.keras.initializers import GlorotNormal\n",
    "from tensorflow.keras.optimizers import Adam\n",
    "from tensorflow.keras.callbacks import ModelCheckpoint\n",
    "from sklearn.metrics import confusion_matrix\n",
    "\n",
    "# -- Define number of Epochs, the Batch Size, and global randon seed\n",
    "NUM_EPOCHS = 5\n",
    "BS = 100\n",
    "tf.random.set_seed(0)"
   ]
  },
  {
   "cell_type": "markdown",
   "metadata": {},
   "source": [
    "<p style = \"color:orange; font-size:30px;\"> Define the CNN model </p>"
   ]
  },
  {
   "cell_type": "code",
   "execution_count": 2,
   "metadata": {},
   "outputs": [],
   "source": [
    "def Cancer_clasifier(input_shapes):\n",
    "    \n",
    "    X_input = Input(input_shapes)\n",
    "    \n",
    "    XX = Conv2D(8, kernel_size = (2,2), strides=(1, 1), padding = 'same', \n",
    "                kernel_initializer = GlorotNormal())(X_input)       \n",
    "    XX = BatchNormalization(axis = -1)(XX)\n",
    "    XX = Activation('relu')(XX)\n",
    "    XX = MaxPooling2D(2,2)(XX)\n",
    " \n",
    "    XX = Conv2D(16, kernel_size = (4,4), strides=(1, 1), padding = 'same')(XX)\n",
    "    XX = BatchNormalization(axis = -1)(XX)\n",
    "    XX = Activation('relu')(XX)\n",
    "    XX = MaxPooling2D(2,2)(XX)\n",
    "    \n",
    "    # --- Output Layer\n",
    "    XX = Flatten()(XX)\n",
    "    \n",
    "    XX = Dense(1, activation='sigmoid')(XX)\n",
    "    \n",
    "    model = Model(inputs = X_input, outputs = XX, name='Cancer_clasifier')\n",
    "              \n",
    "    return model"
   ]
  },
  {
   "cell_type": "markdown",
   "metadata": {},
   "source": [
    "<p style = \"color:orange; font-size:30px;\">  Data generator </p>"
   ]
  },
  {
   "cell_type": "markdown",
   "metadata": {},
   "source": [
    "Define the path to the data set. Be sure that you had run 'arrange_dataset' file before to create testing, validating and training subsets with \"0\" and \"1\" as subdirectories."
   ]
  },
  {
   "cell_type": "code",
   "execution_count": 3,
   "metadata": {},
   "outputs": [
    {
     "name": "stdout",
     "output_type": "stream",
     "text": [
      "Current working directory is\n"
     ]
    },
    {
     "data": {
      "text/plain": [
       "'C:\\\\Users\\\\Oscar\\\\JUPITER_NOTEBOOKS\\\\CNN_BreastCancer'"
      ]
     },
     "execution_count": 3,
     "metadata": {},
     "output_type": "execute_result"
    }
   ],
   "source": [
    "Path_to_traning = r\"D:\\DS_Course\\Projects\\FinalProject_BreastCancer\\breast_cancer_data\\arranged\\training\"\n",
    "Path_to_validation = r\"D:\\DS_Course\\Projects\\FinalProject_BreastCancer\\breast_cancer_data\\arranged\\validation\"\n",
    "\n",
    "print('Current working directory is')\n",
    "%pwd"
   ]
  },
  {
   "cell_type": "code",
   "execution_count": 4,
   "metadata": {},
   "outputs": [
    {
     "name": "stdout",
     "output_type": "stream",
     "text": [
      "Found 255815 images belonging to 2 classes.\n",
      "Found 42660 images belonging to 2 classes.\n"
     ]
    }
   ],
   "source": [
    "image_shape = (50,50,3)\n",
    "train_augmentation = ImageDataGenerator(\n",
    "        rescale=1./255,\n",
    "        shear_range=0.03,\n",
    "        horizontal_flip = True)\n",
    "val_augmentation = ImageDataGenerator(rescale=1./255)\n",
    "\n",
    "train_generator = train_augmentation.flow_from_directory(\n",
    "        Path_to_traning,\n",
    "        target_size = image_shape[:2],\n",
    "        color_mode=\"rgb\",\n",
    "        batch_size = BS,\n",
    "        class_mode = 'binary',\n",
    "        shuffle=True)\n",
    "\n",
    "validation_generator = val_augmentation.flow_from_directory(\n",
    "        Path_to_validation,\n",
    "        target_size = image_shape[:2],\n",
    "        color_mode=\"rgb\",\n",
    "        batch_size = BS,\n",
    "        class_mode = 'binary',\n",
    "        shuffle=True)"
   ]
  },
  {
   "cell_type": "code",
   "execution_count": 5,
   "metadata": {},
   "outputs": [
    {
     "data": {
      "text/plain": [
       "dict_keys(['0', '1'])"
      ]
     },
     "execution_count": 5,
     "metadata": {},
     "output_type": "execute_result"
    }
   ],
   "source": [
    "# -- Check if the right classes are recognized by the DirectoryIterator \n",
    "train_generator.class_indices.keys()"
   ]
  },
  {
   "cell_type": "markdown",
   "metadata": {},
   "source": [
    "<p style = \"color:orange; font-size:30px;\"> Train the model </p>\n",
    "\n",
    "<p> In each Epoch validation accuracy is checked and if it has imporved - model weights are saved in hdf5 file </p>"
   ]
  },
  {
   "cell_type": "code",
   "execution_count": 6,
   "metadata": {},
   "outputs": [
    {
     "name": "stdout",
     "output_type": "stream",
     "text": [
      "Model: \"Cancer_clasifier\"\n",
      "_________________________________________________________________\n",
      "Layer (type)                 Output Shape              Param #   \n",
      "=================================================================\n",
      "input_1 (InputLayer)         [(None, 50, 50, 3)]       0         \n",
      "_________________________________________________________________\n",
      "conv2d (Conv2D)              (None, 50, 50, 8)         104       \n",
      "_________________________________________________________________\n",
      "batch_normalization (BatchNo (None, 50, 50, 8)         32        \n",
      "_________________________________________________________________\n",
      "activation (Activation)      (None, 50, 50, 8)         0         \n",
      "_________________________________________________________________\n",
      "max_pooling2d (MaxPooling2D) (None, 25, 25, 8)         0         \n",
      "_________________________________________________________________\n",
      "conv2d_1 (Conv2D)            (None, 25, 25, 16)        2064      \n",
      "_________________________________________________________________\n",
      "batch_normalization_1 (Batch (None, 25, 25, 16)        64        \n",
      "_________________________________________________________________\n",
      "activation_1 (Activation)    (None, 25, 25, 16)        0         \n",
      "_________________________________________________________________\n",
      "max_pooling2d_1 (MaxPooling2 (None, 12, 12, 16)        0         \n",
      "_________________________________________________________________\n",
      "flatten (Flatten)            (None, 2304)              0         \n",
      "_________________________________________________________________\n",
      "dense (Dense)                (None, 1)                 2305      \n",
      "=================================================================\n",
      "Total params: 4,569\n",
      "Trainable params: 4,521\n",
      "Non-trainable params: 48\n",
      "_________________________________________________________________\n",
      "Epoch 1/5\n",
      "2559/2559 [==============================] - ETA: 0s - loss: 0.3835 - accuracy: 0.8324\n",
      "Epoch 00001: val_accuracy improved from -inf to 0.84733, saving model to model.01-0.85.h5\n",
      "2559/2559 [==============================] - 18848s 7s/step - loss: 0.3835 - accuracy: 0.8324 - val_loss: 0.3506 - val_accuracy: 0.8473\n",
      "Epoch 2/5\n",
      "2559/2559 [==============================] - ETA: 0s - loss: 0.3471 - accuracy: 0.8505\n",
      "Epoch 00002: val_accuracy improved from 0.84733 to 0.85457, saving model to model.02-0.85.h5\n",
      "2559/2559 [==============================] - 13984s 5s/step - loss: 0.3471 - accuracy: 0.8505 - val_loss: 0.3348 - val_accuracy: 0.8546\n",
      "Epoch 3/5\n",
      "2559/2559 [==============================] - ETA: 0s - loss: 0.3379 - accuracy: 0.8546\n",
      "Epoch 00003: val_accuracy improved from 0.85457 to 0.85771, saving model to model.03-0.86.h5\n",
      "2559/2559 [==============================] - 10673s 4s/step - loss: 0.3379 - accuracy: 0.8546 - val_loss: 0.3278 - val_accuracy: 0.8577\n",
      "Epoch 4/5\n",
      "2559/2559 [==============================] - ETA: 0s - loss: 0.3308 - accuracy: 0.8574\n",
      "Epoch 00004: val_accuracy did not improve from 0.85771\n",
      "2559/2559 [==============================] - 10655s 4s/step - loss: 0.3308 - accuracy: 0.8574 - val_loss: 0.3291 - val_accuracy: 0.8561\n",
      "Epoch 5/5\n",
      "2558/2559 [============================>.] - ETA: 2s - loss: 0.3262 - accuracy: 0.8596\n",
      "Epoch 00005: val_accuracy improved from 0.85771 to 0.86010, saving model to model.05-0.86.h5\n",
      "2559/2559 [==============================] - 8710s 3s/step - loss: 0.3262 - accuracy: 0.8596 - val_loss: 0.3207 - val_accuracy: 0.8601\n"
     ]
    }
   ],
   "source": [
    "# -- Create the model\n",
    "my_cancer_model = Cancer_clasifier(image_shape)\n",
    "# -- Print model summary\n",
    "my_cancer_model.summary()\n",
    "\n",
    "# -- Define the optimizer\n",
    "opt = Adam(learning_rate=0.0001)\n",
    "# -- Compile the model\n",
    "my_cancer_model.compile(optimizer = opt, loss='binary_crossentropy', metrics=['accuracy'])\n",
    "\n",
    "# create the checkpoint for the model with best accuracy on validation set\n",
    "checkpoint_filepath = 'model.{epoch:02d}-{val_accuracy:.2f}.h5'\n",
    "checkpoint = ModelCheckpoint(filepath = checkpoint_filepath, monitor='val_accuracy', mode='max', verbose=1, \n",
    "                             save_best_only = True, save_weights_only = False, save_freq = 'epoch')\n",
    "\n",
    "# -- Train the model\n",
    "#history = my_cancer_model.fit(train_generator, validation_data = validation_generator, \n",
    "#                              epochs = NUM_EPOCHS, callbacks=[checkpoint])\n",
    "history = my_cancer_model.fit(train_generator, validation_data = validation_generator, epochs = NUM_EPOCHS, \n",
    "                              callbacks=[checkpoint], \n",
    "                              steps_per_epoch = len(train_generator),\n",
    "                              validation_steps = len(validation_generator))"
   ]
  },
  {
   "cell_type": "markdown",
   "metadata": {},
   "source": [
    "<p style = \"color:orange; font-size:30px;\"> Saving the model </p>\n",
    "<p> Save the model using joson, weights in h5 a file and model history as DataFrame </p>"
   ]
  },
  {
   "cell_type": "code",
   "execution_count": 7,
   "metadata": {},
   "outputs": [],
   "source": [
    "# serialize model to JSON\n",
    "model_json = my_cancer_model.to_json()\n",
    "with open(\"Cancer_clasifier_model.json\", \"w\") as json_file:\n",
    "    json_file.write(model_json)\n",
    "    \n",
    "# serialize weights to HDF5\n",
    "my_cancer_model.save_weights(\"Cancer_clasifier_LastWeights.h5\")\n",
    "\n",
    "# Save model history with json \n",
    "hist_df = pd.DataFrame(history.history) \n",
    "# save to json:  \n",
    "hist_json_file = 'History_14May_6Epoch.json' \n",
    "with open(hist_json_file, mode='w') as f:\n",
    "    hist_df.to_json(f)"
   ]
  },
  {
   "cell_type": "markdown",
   "metadata": {},
   "source": [
    "<p style = \"color:orange; font-size:30px;\"> Plot the results </p>\n",
    "<p> Model loss and accuracy are ploted as number of Epochs </p>"
   ]
  },
  {
   "cell_type": "code",
   "execution_count": 8,
   "metadata": {},
   "outputs": [
    {
     "name": "stderr",
     "output_type": "stream",
     "text": [
      "The PostScript backend does not support transparency; partially transparent artists will be rendered opaque.\n",
      "The PostScript backend does not support transparency; partially transparent artists will be rendered opaque.\n"
     ]
    },
    {
     "data": {
      "image/png": "[encoded data removed]",
      "text/plain": [
       "<Figure size 432x288 with 1 Axes>"
      ]
     },
     "metadata": {
      "needs_background": "light"
     },
     "output_type": "display_data"
    },
    {
     "data": {
      "image/png": "[encoded data removed]",
      "text/plain": [
       "<Figure size 432x288 with 1 Axes>"
      ]
     },
     "metadata": {
      "needs_background": "light"
     },
     "output_type": "display_data"
    }
   ],
   "source": [
    "# -- Plot the Loss as a function of number of Epochs \n",
    "plt.figure()\n",
    "plt.plot(history.history['loss'], 'b')\n",
    "plt.plot(history.history['val_loss'], 'r')\n",
    "plt.legend(['train', 'validation'], loc='upper right')\n",
    "plt.xlabel('Epochs')\n",
    "plt.ylabel('Loss')\n",
    "plt.title('Cancer_clasifier with Batch = 100, LR_Adam = 0.0001')\n",
    "plt.savefig('Cancer_clasifier_Loss.eps')\n",
    "# -- Plot the Accuracy as a function of number of Epochs \n",
    "plt.figure()\n",
    "plt.plot(history.history['accuracy'], 'b')\n",
    "plt.plot(history.history['val_accuracy'], 'r')\n",
    "plt.legend(['train', 'validation'], loc='lower right')\n",
    "plt.xlabel('Epochs')\n",
    "plt.ylabel('Accuracy')\n",
    "plt.title('Cancer_clasifier with Batch = 100, LR_Adam = 0.0001')\n",
    "plt.savefig('Cancer_clasifier_Accuracy.eps')"
   ]
  },
  {
   "cell_type": "markdown",
   "metadata": {},
   "source": [
    "<p style = \"color:orange; font-size:30px;\"> Validate the model on the test set </p>"
   ]
  },
  {
   "cell_type": "code",
   "execution_count": 9,
   "metadata": {},
   "outputs": [],
   "source": [
    "#Run this cell if you want to load saved model and weights\n",
    "\n",
    "from tensorflow.keras.models import model_from_json\n",
    "json_file = open('Cancer_clasifier_model.json', 'r')\n",
    "loaded_model_json = json_file.read()\n",
    "json_file.close()\n",
    "my_cancer_model = model_from_json(loaded_model_json)\n",
    "my_cancer_model.load_weights('model.05-0.86.h5')\n",
    "image_shape = (50,50,3)"
   ]
  },
  {
   "cell_type": "code",
   "execution_count": 15,
   "metadata": {},
   "outputs": [
    {
     "name": "stdout",
     "output_type": "stream",
     "text": [
      "Predicting the classes on the test set and calculating the confusion matrix ..\n",
      "Found 99906 images belonging to 2 classes.\n",
      "1000/1000 [==============================] - 127s 127ms/step\n",
      "Confussion matrix is \n",
      " [[66411  5040]\n",
      " [ 8909 19546]]\n",
      "Accuracy: 0.8603787560306688\n",
      "Sensitivity 0.92946214888525\n",
      "Specificity 0.6869091548058338\n"
     ]
    }
   ],
   "source": [
    "print('Predicting the classes on the test set and calculating the confusion matrix ..')\n",
    "Path_to_test = r\"D:\\DS_Course\\Projects\\FinalProject_BreastCancer\\breast_cancer_data\\arranged\\testing\"\n",
    "\n",
    "test_augmentation = ImageDataGenerator(rescale=1./255)\n",
    "test_generator = test_augmentation.flow_from_directory(\n",
    "        Path_to_test,\n",
    "        target_size = image_shape[:2],\n",
    "        color_mode=\"rgb\",\n",
    "        batch_size = BS,\n",
    "        class_mode = 'binary',\n",
    "        shuffle=False)\n",
    "\n",
    "# ---- Predictions from the model on test set\n",
    "predicted_indices = my_cancer_model.predict(test_generator, verbose = 1, steps = len(test_generator))\n",
    "predicted_indices[predicted_indices < 0.5] = 0\n",
    "predicted_indices[predicted_indices >= 0.5] = 1\n",
    "\n",
    "# --- Create Confusion matrix \n",
    "cm = confusion_matrix(test_generator.classes, predicted_indices)\n",
    "total = sum(sum(cm))\n",
    "# --- Calculate and print acc, spec & sens\n",
    "accuracy = (cm[0,0]+cm[1,1])/total\n",
    "specificity = cm[1,1]/(cm[1,0]+cm[1,1])\n",
    "sensitivity = cm[0,0]/(cm[0,0]+cm[0,1])\n",
    "\n",
    "print('Confussion matrix is \\n', cm)\n",
    "print('Accuracy:', accuracy)\n",
    "print('Sensitivity', sensitivity)\n",
    "print('Specificity', specificity)"
   ]
  }
 ],
 "metadata": {
  "kernelspec": {
   "display_name": "Python 3",
   "language": "python",
   "name": "python3"
  },
  "language_info": {
   "codemirror_mode": {
    "name": "ipython",
    "version": 3
   },
   "file_extension": ".py",
   "mimetype": "text/x-python",
   "name": "python",
   "nbconvert_exporter": "python",
   "pygments_lexer": "ipython3",
   "version": "3.7.7"
  }
 },
 "nbformat": 4,
 "nbformat_minor": 4
}
