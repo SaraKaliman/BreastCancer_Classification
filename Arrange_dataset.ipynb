{
 "cells": [
  {
   "cell_type": "markdown",
   "metadata": {},
   "source": [
    "# Preparing Kaggle ICD data set for DL training\n",
    "\n",
    "Data set is available under: https://www.kaggle.com/paultimothymooney/breast-histopathology-images\n",
    "Kaggle say that data set containes 1.5 GB of data but it needs more than 3 GB space on dics due to metadata. \n",
    "Images are stored in numerious directories named with a number preresenting the ID of a patient. \n",
    "Such a large data set can not fit into computer memory and during training we have to use a data generator.\n",
    "\n",
    "Data generator expects a path to directory where data is saved in subdirecotries named as the classes.\n",
    "Therefore, we must fistly create tran, validation and test subdirectories where data will be sotred in two directories (since we have binary classification problem).\n",
    "\n",
    "This is a code that will create new directory where all the files will be copied in \n",
    "traning (72% of total data), validation (8% of data) and testing (20% of data) directories.\n",
    "Each directory will contain subdirectories named \"0\" for negative examples and \"1\" for positives.\n",
    "\n",
    "<b> NOTE: This file takes several hours to run</b>\n",
    "<b> <p> THIS CODE IS INSPIRED WITH THE CODE MADE PUBLIC BY ADRIAN ROSEBROCK AND AVAILABLE AT:</p>\n",
    "    <p>https://www.pyimagesearch.com/2019/02/18/breast-cancer-classification-with-keras-and-deep-learning/ </p></b>"
   ]
  },
  {
   "cell_type": "code",
   "execution_count": 6,
   "metadata": {},
   "outputs": [],
   "source": [
    "from imutils import paths\n",
    "import random, shutil, os\n",
    "\n",
    "random.seed(7)\n",
    "TRAIN_AND_VAL_SPLIT = 0.8\n",
    "VAL_SPLIT = 0.1"
   ]
  },
  {
   "cell_type": "code",
   "execution_count": 7,
   "metadata": {},
   "outputs": [
    {
     "name": "stdout",
     "output_type": "stream",
     "text": [
      "D:\\DS_Course\\Projects\\FinalProject_BreastCancer\n"
     ]
    }
   ],
   "source": [
    "%cd \"D:\\DS_Course\\Projects\\FinalProject_BreastCancer\"\n",
    "INPUT_PATH = \"breast_cancer_data\\\\original\"\n",
    "BASE_PATH = \"breast_cancer_data\\\\arranged\"\n",
    "\n",
    "# ---- Create 3 names for subdirectories containing 3 Sets of data \n",
    "TRAIN_PATH = os.path.join(BASE_PATH + \"\\\\training\")\n",
    "VAL_PATH = os.path.join(BASE_PATH + \"\\\\validation\")\n",
    "TEST_PATH = os.path.join(BASE_PATH + \"\\\\testing\")"
   ]
  },
  {
   "cell_type": "code",
   "execution_count": 8,
   "metadata": {},
   "outputs": [],
   "source": [
    "# --- Get a list of paths for all images in original data using imutils function paths \n",
    "originalPaths = list(paths.list_images(INPUT_PATH))\n",
    "# --- Randomly shuffle all paths in the list\n",
    "random.shuffle(originalPaths)\n",
    "\n",
    "# --- Take first 80% of the paths in trainPaths (TotalTrain)\n",
    "N = int(len(originalPaths)*TRAIN_AND_VAL_SPLIT)\n",
    "trainPaths = originalPaths[:N]\n",
    "# ---- Take last 20% of paths in testPaths\n",
    "testPaths = originalPaths[N:]\n",
    "\n",
    "# --- Take 10% of trainPaths for validation\n",
    "N = int(len(trainPaths)*VAL_SPLIT)\n",
    "valPaths = trainPaths[:N]\n",
    "# --- Take 90% of trainPaths (total) for training data (True training set)\n",
    "trainPaths = trainPaths[N:]"
   ]
  },
  {
   "cell_type": "code",
   "execution_count": null,
   "metadata": {},
   "outputs": [],
   "source": [
    "# --- Crate a list with name, paths to files and path to just base directories\n",
    "datasets=[(\"training\", trainPaths, TRAIN_PATH),\n",
    "          (\"validation\", valPaths, VAL_PATH),\n",
    "          (\"testing\", testPaths, TEST_PATH)]"
   ]
  },
  {
   "cell_type": "code",
   "execution_count": null,
   "metadata": {},
   "outputs": [],
   "source": [
    "# --- Iterate over all train/valid/test-ing file paths in dataset\n",
    "for (setType, originalPaths, BasePaths) in datasets:\n",
    "        print('Building', setType, 'set')\n",
    "        #If base directory doesn't ecxist- create it\n",
    "        if not os.path.exists(BasePaths):\n",
    "                print('Building directory', BasePaths)\n",
    "                os.makedirs(BasePaths)\n",
    "        \n",
    "        # --- Iterate over all paths in a given setType (train/valid/test-ing)        \n",
    "        for path in originalPaths:\n",
    "            \n",
    "                # --- Get file name using split on path.sep (\\\\)\n",
    "                file = path.split(os.path.sep)[-1]\n",
    "                # --- Position -5 is 0 or 1 because \".png\" are last 4 possitions)\n",
    "                label = file[-5]\n",
    "                # --- Create name base directory + \"0\" or \"1\"\n",
    "                labelPath = os.path.join(BasePaths + \"\\\\\" + label)\n",
    "                # --- If this directory doesn't exist - create it\n",
    "                if not os.path.exists(labelPath):\n",
    "                        print('Building directory', labelPath)\n",
    "                        os.makedirs(labelPath)\n",
    "                        \n",
    "                # --- Create path for each file        \n",
    "                newPath=os.path.join(labelPath + \"\\\\\" + file)\n",
    "                # --- Copy file in each old path to newPath  \n",
    "                shutil.copyfile(path, newPath)"
   ]
  },
  {
   "cell_type": "markdown",
   "metadata": {},
   "source": [
    "Once this is done we can check if we have equal distribution of negative and positive examples over the sets."
   ]
  },
  {
   "cell_type": "code",
   "execution_count": 9,
   "metadata": {},
   "outputs": [
    {
     "name": "stdout",
     "output_type": "stream",
     "text": [
      "Training set has 2.524 ratio of negative to positive\n",
      "Validation set has 2.534 ratio of negative to positive\n",
      "Testing set has 2.511 ratio of negative to positive\n"
     ]
    }
   ],
   "source": [
    "# --- Count the number of files in each directory                \n",
    "Train_files_0 = len(list(paths.list_images(os.path.join(TRAIN_PATH + \"\\\\0\"))))            \n",
    "Train_files_1 = len(list(paths.list_images(os.path.join(TRAIN_PATH + \"\\\\1\"))))            \n",
    "\n",
    "Val_files_0 = len(list(paths.list_images(os.path.join(VAL_PATH + \"\\\\0\"))))            \n",
    "Val_files_1 = len(list(paths.list_images(os.path.join(VAL_PATH + \"\\\\1\"))))    \n",
    "\n",
    "Test_files_0 = len(list(paths.list_images(os.path.join(TEST_PATH + \"\\\\0\"))))            \n",
    "Test_files_1 = len(list(paths.list_images(os.path.join(TEST_PATH + \"\\\\1\"))))            \n",
    "\n",
    "from numpy import around\n",
    "\n",
    "print('Training set has', around(Train_files_0/Train_files_1, 3), 'ratio of negative to positive')\n",
    "print('Validation set has', around(Val_files_0/Val_files_1, 3), 'ratio of negative to positive')\n",
    "print('Testing set has', around(Test_files_0/Test_files_1,3), 'ratio of negative to positive')"
   ]
  }
 ],
 "metadata": {
  "kernelspec": {
   "display_name": "Python 3",
   "language": "python",
   "name": "python3"
  },
  "language_info": {
   "codemirror_mode": {
    "name": "ipython",
    "version": 3
   },
   "file_extension": ".py",
   "mimetype": "text/x-python",
   "name": "python",
   "nbconvert_exporter": "python",
   "pygments_lexer": "ipython3",
   "version": "3.7.7"
  }
 },
 "nbformat": 4,
 "nbformat_minor": 4
}
